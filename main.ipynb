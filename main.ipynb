{
 "cells": [
  {
   "cell_type": "code",
   "execution_count": 121,
   "metadata": {},
   "outputs": [],
   "source": [
    "# Warning\n",
    "import warnings\n",
    "warnings.filterwarnings(\"ignore\")\n",
    "\n",
    "# Main Library\n",
    "import pandas as pd \n",
    "import numpy as np\n",
    "pd.set_option('display.width', 1000)\n",
    "pd.set_option('display.max_columns', 1000)\n",
    "\n",
    "# Visualization Library\n",
    "import matplotlib.pyplot as plt\n",
    "%matplotlib inline\n",
    "from yellowbrick.cluster import KElbowVisualizer # cluster visualizer\n",
    "import seaborn as sns\n",
    "import plotly.express as px\n",
    "import plotly.graph_objects as go\n",
    "from plotly.subplots import make_subplots"
   ]
  },
  {
   "cell_type": "code",
   "execution_count": 122,
   "metadata": {},
   "outputs": [
    {
     "name": "stdout",
     "output_type": "stream",
     "text": [
      "<class 'pandas.core.frame.DataFrame'>\n",
      "RangeIndex: 643 entries, 0 to 642\n",
      "Data columns (total 10 columns):\n",
      " #   Column         Non-Null Count  Dtype  \n",
      "---  ------         --------------  -----  \n",
      " 0   product_name   643 non-null    object \n",
      " 1   product_id     643 non-null    object \n",
      " 2   listing_price  643 non-null    int64  \n",
      " 3   sale_price     643 non-null    int64  \n",
      " 4   discount       643 non-null    int64  \n",
      " 5   brand          643 non-null    object \n",
      " 6   description    640 non-null    object \n",
      " 7   rating         643 non-null    float64\n",
      " 8   reviews        643 non-null    int64  \n",
      " 9   images         572 non-null    object \n",
      "dtypes: float64(1), int64(4), object(5)\n",
      "memory usage: 50.4+ KB\n"
     ]
    }
   ],
   "source": [
    "dataset = pd.read_csv(\"nike_shoes_sales.csv\")\n",
    "dataset.info()"
   ]
  },
  {
   "cell_type": "code",
   "execution_count": 123,
   "metadata": {},
   "outputs": [
    {
     "name": "stdout",
     "output_type": "stream",
     "text": [
      "                             product_name  product_id  listing_price  sale_price  discount brand                                        description  rating  reviews                                             images\n",
      "0          Nike Air Force 1 '07 Essential  CJ1646-600              0        7495         0  Nike  Let your shoe game shimmer in the Nike Air For...     0.0        0  [\"https://static.nike.com/a/images/t_PDP_1728_...\n",
      "1                    Nike Air Force 1 '07  CT4328-101              0        7495         0  Nike  The legend lives on in the Nike Air Force 1 '0...     0.0        0  [\"https://static.nike.com/a/images/t_PDP_1728_...\n",
      "2            Nike Air Force 1 Sage Low LX  CI3482-200              0        9995         0  Nike  Taking both height and craft to new levels, th...     0.0        0  [\"https://static.nike.com/a/images/t_PDP_1728_...\n",
      "3                     Nike Air Max Dia SE  CD0479-200              0        9995         0  Nike  Designed for a woman's foot, the Nike Air Max ...     0.0        0  [\"https://static.nike.com/a/images/t_PDP_1728_...\n",
      "4                     Nike Air Max Verona  CZ6156-101              0        9995         0  Nike  Pass on the good vibes in the Nike Air Max Ver...     0.0        0  [\"https://static.nike.com/a/images/t_PDP_1728_...\n",
      "..                                    ...         ...            ...         ...       ...   ...                                                ...     ...      ...                                                ...\n",
      "638                    Air Jordan 8 Retro  CI1236-100          15995       12797         0  Nike  The Air Jordan 8 Retro recaptures the memorabl...     5.0        1  [\"https://static.nike.com/a/images/t_PDP_1728_...\n",
      "639            Nike Phantom Venom Club IC  AO0578-717           4995        3497         0  Nike  The Nike Phantom Venom Club IC is engineered f...     0.0        0                                                NaN\n",
      "640  Nike Mercurial Superfly 7 Academy TF  AT7978-414           8495        5947         0  Nike  The soft upper of the Nike Mercurial Superfly ...     5.0        1                                                NaN\n",
      "641                       Nike Air Max 98  AH6799-300              0       16995         0  Nike  The Nike Air Max 98 features the OG design lin...     4.0        4  [\"https://static.nike.com/a/images/t_PDP_1728_...\n",
      "642                        Nike P-6000 SE  CJ9585-600           8995        6297         0  Nike  A mash-up of Pegasus' past, the Nike P-6000 SE...     0.0        0  [\"https://static.nike.com/a/images/t_PDP_1728_...\n",
      "\n",
      "[643 rows x 10 columns]\n"
     ]
    }
   ],
   "source": [
    "print(dataset)"
   ]
  },
  {
   "cell_type": "code",
   "execution_count": 124,
   "metadata": {},
   "outputs": [
    {
     "data": {
      "text/plain": [
       "product_name      0\n",
       "product_id        0\n",
       "listing_price     0\n",
       "sale_price        0\n",
       "discount          0\n",
       "brand             0\n",
       "description       3\n",
       "rating            0\n",
       "reviews           0\n",
       "images           71\n",
       "dtype: int64"
      ]
     },
     "execution_count": 124,
     "metadata": {},
     "output_type": "execute_result"
    }
   ],
   "source": [
    "dataset.isnull().sum()"
   ]
  },
  {
   "cell_type": "code",
   "execution_count": 125,
   "metadata": {},
   "outputs": [
    {
     "data": {
      "text/plain": [
       "product_name      0\n",
       "product_id        0\n",
       "listing_price     0\n",
       "sale_price        0\n",
       "discount          0\n",
       "brand             0\n",
       "description       3\n",
       "rating            0\n",
       "reviews           0\n",
       "images           71\n",
       "dtype: int64"
      ]
     },
     "execution_count": 125,
     "metadata": {},
     "output_type": "execute_result"
    }
   ],
   "source": [
    "df = dataset.ffill()\n",
    "dataset.isnull().sum()"
   ]
  },
  {
   "cell_type": "code",
   "execution_count": 126,
   "metadata": {},
   "outputs": [
    {
     "data": {
      "text/html": [
       "<div>\n",
       "<style scoped>\n",
       "    .dataframe tbody tr th:only-of-type {\n",
       "        vertical-align: middle;\n",
       "    }\n",
       "\n",
       "    .dataframe tbody tr th {\n",
       "        vertical-align: top;\n",
       "    }\n",
       "\n",
       "    .dataframe thead th {\n",
       "        text-align: right;\n",
       "    }\n",
       "</style>\n",
       "<table border=\"1\" class=\"dataframe\">\n",
       "  <thead>\n",
       "    <tr style=\"text-align: right;\">\n",
       "      <th></th>\n",
       "      <th>product_name</th>\n",
       "      <th>rating</th>\n",
       "      <th>count</th>\n",
       "    </tr>\n",
       "  </thead>\n",
       "  <tbody>\n",
       "    <tr>\n",
       "      <th>440</th>\n",
       "      <td>Nike x Undercover React Presto</td>\n",
       "      <td>5.0</td>\n",
       "      <td>1</td>\n",
       "    </tr>\n",
       "    <tr>\n",
       "      <th>9</th>\n",
       "      <td>Nike Air Max 97</td>\n",
       "      <td>5.0</td>\n",
       "      <td>3</td>\n",
       "    </tr>\n",
       "    <tr>\n",
       "      <th>20</th>\n",
       "      <td>Nike Mercurial Superfly 7 Academy IC</td>\n",
       "      <td>5.0</td>\n",
       "      <td>2</td>\n",
       "    </tr>\n",
       "    <tr>\n",
       "      <th>31</th>\n",
       "      <td>Nike Mercurial Superfly 7 Academy TF</td>\n",
       "      <td>5.0</td>\n",
       "      <td>2</td>\n",
       "    </tr>\n",
       "    <tr>\n",
       "      <th>1</th>\n",
       "      <td>Nike Air Max 90</td>\n",
       "      <td>5.0</td>\n",
       "      <td>5</td>\n",
       "    </tr>\n",
       "  </tbody>\n",
       "</table>\n",
       "</div>"
      ],
      "text/plain": [
       "                             product_name  rating  count\n",
       "440        Nike x Undercover React Presto     5.0      1\n",
       "9                         Nike Air Max 97     5.0      3\n",
       "20   Nike Mercurial Superfly 7 Academy IC     5.0      2\n",
       "31   Nike Mercurial Superfly 7 Academy TF     5.0      2\n",
       "1                         Nike Air Max 90     5.0      5"
      ]
     },
     "execution_count": 126,
     "metadata": {},
     "output_type": "execute_result"
    }
   ],
   "source": [
    "filtered_df = dataset[[\"product_name\", \"rating\"]].value_counts().reset_index(name=\"count\").sort_values(\"rating\", ascending=False)\n",
    "filtered_df.head(5)"
   ]
  },
  {
   "cell_type": "code",
   "execution_count": 127,
   "metadata": {},
   "outputs": [],
   "source": [
    "df1 = df.groupby('product_name')['rating'].apply(set)\n",
    "filtered_df1 = df1[df1.apply(lambda x: x == {5.0})]"
   ]
  },
  {
   "cell_type": "code",
   "execution_count": 128,
   "metadata": {},
   "outputs": [
    {
     "name": "stdout",
     "output_type": "stream",
     "text": [
      "product_name\n",
      "Air Jordan 1 Jester XX Low Laced        {5.0}\n",
      "Air Jordan 1 Nova XX                    {5.0}\n",
      "Air Jordan 13 Retro Chinese New Year    {5.0}\n",
      "Air Jordan 8 Retro                      {5.0}\n",
      "Air Jordan XXXIV PF                     {5.0}\n",
      "                                        ...  \n",
      "Nike x Hawkins High Cortez              {5.0}\n",
      "Nike x Olivia Kim Air Force 1 '07       {5.0}\n",
      "Nike x Undercover React Presto          {5.0}\n",
      "NikeCourt Royale AC                     {5.0}\n",
      "Zoom Freak 1 'Employee of the Month'    {5.0}\n",
      "Name: rating, Length: 71, dtype: object\n",
      "\n",
      "Products with 5.0 rating :  71\n"
     ]
    }
   ],
   "source": [
    "print(filtered_df1)\n",
    "print(\"\\nProducts with 5.0 rating : \", len(filtered_df1))"
   ]
  },
  {
   "cell_type": "code",
   "execution_count": 129,
   "metadata": {},
   "outputs": [
    {
     "data": {
      "text/html": [
       "<div>\n",
       "<style scoped>\n",
       "    .dataframe tbody tr th:only-of-type {\n",
       "        vertical-align: middle;\n",
       "    }\n",
       "\n",
       "    .dataframe tbody tr th {\n",
       "        vertical-align: top;\n",
       "    }\n",
       "\n",
       "    .dataframe thead th {\n",
       "        text-align: right;\n",
       "    }\n",
       "</style>\n",
       "<table border=\"1\" class=\"dataframe\">\n",
       "  <thead>\n",
       "    <tr style=\"text-align: right;\">\n",
       "      <th></th>\n",
       "      <th>product_name</th>\n",
       "      <th>product_id</th>\n",
       "      <th>listing_price</th>\n",
       "      <th>sale_price</th>\n",
       "      <th>discount</th>\n",
       "      <th>brand</th>\n",
       "      <th>description</th>\n",
       "      <th>rating</th>\n",
       "      <th>reviews</th>\n",
       "      <th>images</th>\n",
       "    </tr>\n",
       "  </thead>\n",
       "  <tbody>\n",
       "    <tr>\n",
       "      <th>17</th>\n",
       "      <td>Nike Air Max 97</td>\n",
       "      <td>921733-104</td>\n",
       "      <td>0</td>\n",
       "      <td>16995</td>\n",
       "      <td>0</td>\n",
       "      <td>Nike</td>\n",
       "      <td>The Nike Air Max 97 keeps a sneaker icon going...</td>\n",
       "      <td>4.3</td>\n",
       "      <td>16</td>\n",
       "      <td>[\"https://static.nike.com/a/images/t_PDP_1728_...</td>\n",
       "    </tr>\n",
       "    <tr>\n",
       "      <th>20</th>\n",
       "      <td>Nike Air Max 97</td>\n",
       "      <td>CT4525-001</td>\n",
       "      <td>0</td>\n",
       "      <td>15995</td>\n",
       "      <td>0</td>\n",
       "      <td>Nike</td>\n",
       "      <td>Remastered from the OG that shook up the runni...</td>\n",
       "      <td>0.0</td>\n",
       "      <td>0</td>\n",
       "      <td>[\"https://static.nike.com/a/images/t_PDP_1728_...</td>\n",
       "    </tr>\n",
       "    <tr>\n",
       "      <th>58</th>\n",
       "      <td>Nike Air Max 97</td>\n",
       "      <td>CI3708-700</td>\n",
       "      <td>0</td>\n",
       "      <td>14995</td>\n",
       "      <td>0</td>\n",
       "      <td>Nike</td>\n",
       "      <td>The Air Max 97 shook up the running world with...</td>\n",
       "      <td>5.0</td>\n",
       "      <td>1</td>\n",
       "      <td>[\"https://static.nike.com/a/images/t_PDP_1728_...</td>\n",
       "    </tr>\n",
       "    <tr>\n",
       "      <th>131</th>\n",
       "      <td>Nike Air Max 97</td>\n",
       "      <td>CT4526-100</td>\n",
       "      <td>0</td>\n",
       "      <td>15995</td>\n",
       "      <td>0</td>\n",
       "      <td>Nike</td>\n",
       "      <td>Remastered from the OG that shook up the runni...</td>\n",
       "      <td>5.0</td>\n",
       "      <td>1</td>\n",
       "      <td>[\"https://static.nike.com/a/images/t_PDP_1728_...</td>\n",
       "    </tr>\n",
       "    <tr>\n",
       "      <th>456</th>\n",
       "      <td>Nike Air Max 97</td>\n",
       "      <td>921826-016</td>\n",
       "      <td>16995</td>\n",
       "      <td>11897</td>\n",
       "      <td>0</td>\n",
       "      <td>Nike</td>\n",
       "      <td>The Nike Air Max 97 Men's Shoe keeps the sneak...</td>\n",
       "      <td>4.3</td>\n",
       "      <td>17</td>\n",
       "      <td>[\"https://static.nike.com/a/images/t_PDP_1728_...</td>\n",
       "    </tr>\n",
       "    <tr>\n",
       "      <th>479</th>\n",
       "      <td>Nike Air Max 97</td>\n",
       "      <td>CT1549-001</td>\n",
       "      <td>15995</td>\n",
       "      <td>9597</td>\n",
       "      <td>0</td>\n",
       "      <td>Nike</td>\n",
       "      <td>Featuring the same ripple design of the OG tha...</td>\n",
       "      <td>0.0</td>\n",
       "      <td>0</td>\n",
       "      <td>[\"https://static.nike.com/a/images/t_PDP_1728_...</td>\n",
       "    </tr>\n",
       "    <tr>\n",
       "      <th>564</th>\n",
       "      <td>Nike Air Max 97</td>\n",
       "      <td>CI7388-600</td>\n",
       "      <td>0</td>\n",
       "      <td>16995</td>\n",
       "      <td>0</td>\n",
       "      <td>Nike</td>\n",
       "      <td>The Nike Air Max 97 keeps a sneaker icon going...</td>\n",
       "      <td>5.0</td>\n",
       "      <td>1</td>\n",
       "      <td>[\"https://static.nike.com/a/images/t_PDP_1728_...</td>\n",
       "    </tr>\n",
       "  </tbody>\n",
       "</table>\n",
       "</div>"
      ],
      "text/plain": [
       "        product_name  product_id  listing_price  sale_price  discount brand                                        description  rating  reviews                                             images\n",
       "17   Nike Air Max 97  921733-104              0       16995         0  Nike  The Nike Air Max 97 keeps a sneaker icon going...     4.3       16  [\"https://static.nike.com/a/images/t_PDP_1728_...\n",
       "20   Nike Air Max 97  CT4525-001              0       15995         0  Nike  Remastered from the OG that shook up the runni...     0.0        0  [\"https://static.nike.com/a/images/t_PDP_1728_...\n",
       "58   Nike Air Max 97  CI3708-700              0       14995         0  Nike  The Air Max 97 shook up the running world with...     5.0        1  [\"https://static.nike.com/a/images/t_PDP_1728_...\n",
       "131  Nike Air Max 97  CT4526-100              0       15995         0  Nike  Remastered from the OG that shook up the runni...     5.0        1  [\"https://static.nike.com/a/images/t_PDP_1728_...\n",
       "456  Nike Air Max 97  921826-016          16995       11897         0  Nike  The Nike Air Max 97 Men's Shoe keeps the sneak...     4.3       17  [\"https://static.nike.com/a/images/t_PDP_1728_...\n",
       "479  Nike Air Max 97  CT1549-001          15995        9597         0  Nike  Featuring the same ripple design of the OG tha...     0.0        0  [\"https://static.nike.com/a/images/t_PDP_1728_...\n",
       "564  Nike Air Max 97  CI7388-600              0       16995         0  Nike  The Nike Air Max 97 keeps a sneaker icon going...     5.0        1  [\"https://static.nike.com/a/images/t_PDP_1728_..."
      ]
     },
     "execution_count": 129,
     "metadata": {},
     "output_type": "execute_result"
    }
   ],
   "source": [
    "df2 = df[(df['product_name'] == 'Nike Air Max 97')]\n",
    "df2"
   ]
  },
  {
   "cell_type": "code",
   "execution_count": 130,
   "metadata": {},
   "outputs": [
    {
     "data": {
      "text/html": [
       "<div>\n",
       "<style scoped>\n",
       "    .dataframe tbody tr th:only-of-type {\n",
       "        vertical-align: middle;\n",
       "    }\n",
       "\n",
       "    .dataframe tbody tr th {\n",
       "        vertical-align: top;\n",
       "    }\n",
       "\n",
       "    .dataframe thead th {\n",
       "        text-align: right;\n",
       "    }\n",
       "</style>\n",
       "<table border=\"1\" class=\"dataframe\">\n",
       "  <thead>\n",
       "    <tr style=\"text-align: right;\">\n",
       "      <th></th>\n",
       "      <th>product_name</th>\n",
       "      <th>product_id</th>\n",
       "      <th>listing_price</th>\n",
       "      <th>sale_price</th>\n",
       "      <th>discount</th>\n",
       "      <th>brand</th>\n",
       "      <th>description</th>\n",
       "      <th>rating</th>\n",
       "      <th>reviews</th>\n",
       "      <th>images</th>\n",
       "    </tr>\n",
       "  </thead>\n",
       "  <tbody>\n",
       "    <tr>\n",
       "      <th>17</th>\n",
       "      <td>Nike Air Max 97</td>\n",
       "      <td>921733-104</td>\n",
       "      <td>0</td>\n",
       "      <td>16995</td>\n",
       "      <td>0</td>\n",
       "      <td>Nike</td>\n",
       "      <td>The Nike Air Max 97 keeps a sneaker icon going...</td>\n",
       "      <td>4.3</td>\n",
       "      <td>16</td>\n",
       "      <td>[\"https://static.nike.com/a/images/t_PDP_1728_...</td>\n",
       "    </tr>\n",
       "    <tr>\n",
       "      <th>456</th>\n",
       "      <td>Nike Air Max 97</td>\n",
       "      <td>921826-016</td>\n",
       "      <td>16995</td>\n",
       "      <td>11897</td>\n",
       "      <td>0</td>\n",
       "      <td>Nike</td>\n",
       "      <td>The Nike Air Max 97 Men's Shoe keeps the sneak...</td>\n",
       "      <td>4.3</td>\n",
       "      <td>17</td>\n",
       "      <td>[\"https://static.nike.com/a/images/t_PDP_1728_...</td>\n",
       "    </tr>\n",
       "  </tbody>\n",
       "</table>\n",
       "</div>"
      ],
      "text/plain": [
       "        product_name  product_id  listing_price  sale_price  discount brand                                        description  rating  reviews                                             images\n",
       "17   Nike Air Max 97  921733-104              0       16995         0  Nike  The Nike Air Max 97 keeps a sneaker icon going...     4.3       16  [\"https://static.nike.com/a/images/t_PDP_1728_...\n",
       "456  Nike Air Max 97  921826-016          16995       11897         0  Nike  The Nike Air Max 97 Men's Shoe keeps the sneak...     4.3       17  [\"https://static.nike.com/a/images/t_PDP_1728_..."
      ]
     },
     "execution_count": 130,
     "metadata": {},
     "output_type": "execute_result"
    }
   ],
   "source": [
    "filtered_df2 = df[(df['product_name'] == 'Nike Air Max 97') & (df['rating'] == 4.3)]\n",
    "filtered_df2"
   ]
  }
 ],
 "metadata": {
  "kernelspec": {
   "display_name": "base",
   "language": "python",
   "name": "python3"
  },
  "language_info": {
   "codemirror_mode": {
    "name": "ipython",
    "version": 3
   },
   "file_extension": ".py",
   "mimetype": "text/x-python",
   "name": "python",
   "nbconvert_exporter": "python",
   "pygments_lexer": "ipython3",
   "version": "3.11.7"
  }
 },
 "nbformat": 4,
 "nbformat_minor": 2
}
